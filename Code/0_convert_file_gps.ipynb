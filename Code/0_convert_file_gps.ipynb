{
 "cells": [
  {
   "cell_type": "code",
   "execution_count": 1,
   "metadata": {},
   "outputs": [
    {
     "name": "stdout",
     "output_type": "stream",
     "text": [
      "Requirement already satisfied: folium in c:\\users\\usuario\\anaconda3\\envs\\pca\\lib\\site-packages (0.16.0)\n",
      "Requirement already satisfied: branca>=0.6.0 in c:\\users\\usuario\\anaconda3\\envs\\pca\\lib\\site-packages (from folium) (0.7.2)\n",
      "Requirement already satisfied: jinja2>=2.9 in c:\\users\\usuario\\anaconda3\\envs\\pca\\lib\\site-packages (from folium) (3.1.3)\n",
      "Requirement already satisfied: numpy in c:\\users\\usuario\\anaconda3\\envs\\pca\\lib\\site-packages (from folium) (1.26.4)\n",
      "Requirement already satisfied: requests in c:\\users\\usuario\\anaconda3\\envs\\pca\\lib\\site-packages (from folium) (2.31.0)\n",
      "Requirement already satisfied: xyzservices in c:\\users\\usuario\\anaconda3\\envs\\pca\\lib\\site-packages (from folium) (2024.6.0)\n",
      "Requirement already satisfied: MarkupSafe>=2.0 in c:\\users\\usuario\\anaconda3\\envs\\pca\\lib\\site-packages (from jinja2>=2.9->folium) (2.1.3)\n",
      "Requirement already satisfied: charset-normalizer<4,>=2 in c:\\users\\usuario\\anaconda3\\envs\\pca\\lib\\site-packages (from requests->folium) (3.3.2)\n",
      "Requirement already satisfied: idna<4,>=2.5 in c:\\users\\usuario\\anaconda3\\envs\\pca\\lib\\site-packages (from requests->folium) (3.6)\n",
      "Requirement already satisfied: urllib3<3,>=1.21.1 in c:\\users\\usuario\\anaconda3\\envs\\pca\\lib\\site-packages (from requests->folium) (2.2.1)\n",
      "Requirement already satisfied: certifi>=2017.4.17 in c:\\users\\usuario\\anaconda3\\envs\\pca\\lib\\site-packages (from requests->folium) (2024.2.2)\n",
      "Note: you may need to restart the kernel to use updated packages.\n"
     ]
    }
   ],
   "source": [
    "%pip install folium"
   ]
  },
  {
   "cell_type": "code",
   "execution_count": 2,
   "metadata": {},
   "outputs": [
    {
     "name": "stdout",
     "output_type": "stream",
     "text": [
      "Map saved to ../Map_Trajectories\\route_map_epsilon20_1233.html\n"
     ]
    }
   ],
   "source": [
    "import os\n",
    "import numpy as np\n",
    "import folium\n",
    "from folium import plugins\n",
    "from branca.colormap import LinearColormap\n",
    "\n",
    "def get_gps_coordinates(gene_file, gps_file, line_number):\n",
    "    # Read gene.data and gps files\n",
    "    with open(gene_file, 'r') as gene_f, open(gps_file, 'r') as gps_f:\n",
    "        gene_lines = gene_f.readlines()\n",
    "        gps_lines = gps_f.readlines()\n",
    "\n",
    "    # Ensure line_number is within range\n",
    "    if line_number < 0 or line_number >= len(gene_lines):\n",
    "        raise ValueError(f\"line_number {line_number} is out of range.\")\n",
    "\n",
    "    # Get the specific line from gene.data\n",
    "    indices_line = gene_lines[line_number].strip()\n",
    "    indices = list(map(int, indices_line.split()))\n",
    "\n",
    "    # Ensure indices are within range of gps_lines\n",
    "    for index in indices:\n",
    "        if index < 0 or index >= len(gps_lines):\n",
    "            raise ValueError(f\"Index {index} is out of range for GPS data.\")\n",
    "\n",
    "    # Extract GPS coordinates based on indices\n",
    "    gps_coordinates = []\n",
    "    for index in indices:\n",
    "        gps_line = gps_lines[index].strip()\n",
    "        gps_coordinates.append(list(map(float, gps_line.split())))\n",
    "\n",
    "    # Convert to matrix (n, 2)\n",
    "    gps_matrix = np.array(gps_coordinates)\n",
    "    \n",
    "    return gps_matrix\n",
    "def plot_route_on_map(gps_matrix, epsilon, line_number, output_folder):\n",
    "    # Create a map centered around the average coordinates\n",
    "    avg_lat = np.mean(gps_matrix[:, 0])\n",
    "    avg_lon = np.mean(gps_matrix[:, 1])\n",
    "    folium_map = folium.Map(location=[avg_lat, avg_lon], zoom_start=13)\n",
    "\n",
    "    # Create a linear color gradient for the route\n",
    "    gradient = np.linspace(0, 1, len(gps_matrix))\n",
    "\n",
    "    # Create a colormap\n",
    "    colormap = LinearColormap(['blue', 'red'], vmin=0, vmax=1).to_step(index=gradient)\n",
    "\n",
    "    # Add markers for each point with color gradient\n",
    "    for i, (lat, lon) in enumerate(gps_matrix):\n",
    "        folium.CircleMarker([lat, lon], radius=3, color=colormap(gradient[i])).add_to(folium_map)\n",
    "\n",
    "    # Add the route as a polyline with color gradient\n",
    "    for i in range(len(gps_matrix) - 1):\n",
    "        start = gps_matrix[i]\n",
    "        end = gps_matrix[i + 1]\n",
    "        color = colormap(gradient[i])\n",
    "        folium.PolyLine([start, end], color=color, weight=2.5, opacity=1).add_to(folium_map)\n",
    "\n",
    "    # Add a color bar legend\n",
    "    colormap.caption = 'Distance Travelled'\n",
    "    folium_map.add_child(colormap)\n",
    "\n",
    "    # Save the map to an HTML file\n",
    "    output_file = os.path.join(output_folder, f'route_map_{epsilon}_{line_number}.html')\n",
    "    folium_map.save(output_file)\n",
    "    print(f\"Map saved to {output_file}\")\n",
    "\n",
    "# Example usage\n",
    "gene_file = '../epsilon20/gene.data'\n",
    "gps_file = '../epsilon20/gps'\n",
    "line_number = 1233  # Specify the line number you want to process (0-based index)\n",
    "epsilon = 'epsilon20'\n",
    "output_folder = '../Map_Trajectories'\n",
    "\n",
    "gps_matrix = get_gps_coordinates(gene_file, gps_file, line_number)\n",
    "plot_route_on_map(gps_matrix, epsilon, line_number, output_folder)\n",
    "\n",
    "\n"
   ]
  }
 ],
 "metadata": {
  "kernelspec": {
   "display_name": "base",
   "language": "python",
   "name": "python3"
  },
  "language_info": {
   "codemirror_mode": {
    "name": "ipython",
    "version": 3
   },
   "file_extension": ".py",
   "mimetype": "text/x-python",
   "name": "python",
   "nbconvert_exporter": "python",
   "pygments_lexer": "ipython3",
   "version": "3.12.2"
  }
 },
 "nbformat": 4,
 "nbformat_minor": 2
}
